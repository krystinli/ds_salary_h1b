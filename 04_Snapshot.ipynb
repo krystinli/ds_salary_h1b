{
 "cells": [
  {
   "cell_type": "code",
   "execution_count": 5,
   "metadata": {},
   "outputs": [],
   "source": [
    "import pandas as pd\n",
    "import pickle\n",
    "import datetime as dt\n",
    "import matplotlib\n",
    "import matplotlib.pyplot as plt\n",
    "import seaborn as sns"
   ]
  },
  {
   "cell_type": "code",
   "execution_count": 6,
   "metadata": {},
   "outputs": [
    {
     "data": {
      "text/html": [
       "<div>\n",
       "<style scoped>\n",
       "    .dataframe tbody tr th:only-of-type {\n",
       "        vertical-align: middle;\n",
       "    }\n",
       "\n",
       "    .dataframe tbody tr th {\n",
       "        vertical-align: top;\n",
       "    }\n",
       "\n",
       "    .dataframe thead th {\n",
       "        text-align: right;\n",
       "    }\n",
       "</style>\n",
       "<table border=\"1\" class=\"dataframe\">\n",
       "  <thead>\n",
       "    <tr style=\"text-align: right;\">\n",
       "      <th></th>\n",
       "      <th>Unnamed: 0</th>\n",
       "      <th>type</th>\n",
       "      <th>company</th>\n",
       "      <th>title</th>\n",
       "      <th>salary</th>\n",
       "      <th>location</th>\n",
       "      <th>date</th>\n",
       "      <th>year</th>\n",
       "    </tr>\n",
       "  </thead>\n",
       "  <tbody>\n",
       "    <tr>\n",
       "      <td>0</td>\n",
       "      <td>3338</td>\n",
       "      <td>DS</td>\n",
       "      <td>1010DATA SERVICES LLC</td>\n",
       "      <td>DATA SCIENTIST</td>\n",
       "      <td>100000.0</td>\n",
       "      <td>NEW YORK, NY</td>\n",
       "      <td>2015-11-16</td>\n",
       "      <td>2015</td>\n",
       "    </tr>\n",
       "    <tr>\n",
       "      <td>1</td>\n",
       "      <td>498</td>\n",
       "      <td>ML</td>\n",
       "      <td>3M COMPANY</td>\n",
       "      <td>RESEARCH SCIENTIST</td>\n",
       "      <td>94621.0</td>\n",
       "      <td>ST. PAUL, MN</td>\n",
       "      <td>2015-02-16</td>\n",
       "      <td>2015</td>\n",
       "    </tr>\n",
       "    <tr>\n",
       "      <td>2</td>\n",
       "      <td>4958</td>\n",
       "      <td>DA</td>\n",
       "      <td>3S BUSINESS CORPORATION</td>\n",
       "      <td>DATA ANALYST</td>\n",
       "      <td>82000.0</td>\n",
       "      <td>HOUSTON, TX</td>\n",
       "      <td>2015-03-18</td>\n",
       "      <td>2015</td>\n",
       "    </tr>\n",
       "    <tr>\n",
       "      <td>3</td>\n",
       "      <td>3362</td>\n",
       "      <td>DS</td>\n",
       "      <td>4INFO INC</td>\n",
       "      <td>DATA SCIENTIST</td>\n",
       "      <td>100000.0</td>\n",
       "      <td>SAN MATEO, CA</td>\n",
       "      <td>2015-02-23</td>\n",
       "      <td>2015</td>\n",
       "    </tr>\n",
       "    <tr>\n",
       "      <td>4</td>\n",
       "      <td>154</td>\n",
       "      <td>DS</td>\n",
       "      <td>4RC IO LLC</td>\n",
       "      <td>DATA SCIENTIST</td>\n",
       "      <td>130000.0</td>\n",
       "      <td>MCLEAN, VA</td>\n",
       "      <td>2015-03-19</td>\n",
       "      <td>2015</td>\n",
       "    </tr>\n",
       "    <tr>\n",
       "      <td>...</td>\n",
       "      <td>...</td>\n",
       "      <td>...</td>\n",
       "      <td>...</td>\n",
       "      <td>...</td>\n",
       "      <td>...</td>\n",
       "      <td>...</td>\n",
       "      <td>...</td>\n",
       "      <td>...</td>\n",
       "    </tr>\n",
       "    <tr>\n",
       "      <td>28244</td>\n",
       "      <td>3329</td>\n",
       "      <td>DE</td>\n",
       "      <td>ZURICH AMERICAN INSURANCE COMPANY</td>\n",
       "      <td>SENIOR DATA ENGINEER</td>\n",
       "      <td>123000.0</td>\n",
       "      <td>SCHAUMBURG, IL</td>\n",
       "      <td>2019-07-11</td>\n",
       "      <td>2019</td>\n",
       "    </tr>\n",
       "    <tr>\n",
       "      <td>28245</td>\n",
       "      <td>4362</td>\n",
       "      <td>DA</td>\n",
       "      <td>ZYLOTECH INC</td>\n",
       "      <td>DATA ANALYST</td>\n",
       "      <td>76500.0</td>\n",
       "      <td>CAMBRIDGE, MA</td>\n",
       "      <td>2019-03-10</td>\n",
       "      <td>2019</td>\n",
       "    </tr>\n",
       "    <tr>\n",
       "      <td>28246</td>\n",
       "      <td>6801</td>\n",
       "      <td>DA</td>\n",
       "      <td>ZYNGA INC</td>\n",
       "      <td>DATA ANALYST 1 D453</td>\n",
       "      <td>105000.0</td>\n",
       "      <td>SAN FRANCISCO, CA</td>\n",
       "      <td>2019-02-28</td>\n",
       "      <td>2019</td>\n",
       "    </tr>\n",
       "    <tr>\n",
       "      <td>28247</td>\n",
       "      <td>3595</td>\n",
       "      <td>DS</td>\n",
       "      <td>ZYPMEDIA INC</td>\n",
       "      <td>DATA SCIENTIST</td>\n",
       "      <td>104000.0</td>\n",
       "      <td>SAN FRANCISCO, CA</td>\n",
       "      <td>2019-03-25</td>\n",
       "      <td>2019</td>\n",
       "    </tr>\n",
       "    <tr>\n",
       "      <td>28248</td>\n",
       "      <td>4445</td>\n",
       "      <td>DA</td>\n",
       "      <td>ZZZ'S INC</td>\n",
       "      <td>DATA ANALYST</td>\n",
       "      <td>77251.0</td>\n",
       "      <td>SAN FRANCISCO, CA</td>\n",
       "      <td>2019-08-29</td>\n",
       "      <td>2019</td>\n",
       "    </tr>\n",
       "  </tbody>\n",
       "</table>\n",
       "<p>28249 rows × 8 columns</p>\n",
       "</div>"
      ],
      "text/plain": [
       "       Unnamed: 0 type                            company  \\\n",
       "0            3338   DS              1010DATA SERVICES LLC   \n",
       "1             498   ML                         3M COMPANY   \n",
       "2            4958   DA            3S BUSINESS CORPORATION   \n",
       "3            3362   DS                          4INFO INC   \n",
       "4             154   DS                         4RC IO LLC   \n",
       "...           ...  ...                                ...   \n",
       "28244        3329   DE  ZURICH AMERICAN INSURANCE COMPANY   \n",
       "28245        4362   DA                       ZYLOTECH INC   \n",
       "28246        6801   DA                          ZYNGA INC   \n",
       "28247        3595   DS                       ZYPMEDIA INC   \n",
       "28248        4445   DA                          ZZZ'S INC   \n",
       "\n",
       "                      title    salary           location        date  year  \n",
       "0            DATA SCIENTIST  100000.0       NEW YORK, NY  2015-11-16  2015  \n",
       "1        RESEARCH SCIENTIST   94621.0       ST. PAUL, MN  2015-02-16  2015  \n",
       "2              DATA ANALYST   82000.0        HOUSTON, TX  2015-03-18  2015  \n",
       "3            DATA SCIENTIST  100000.0      SAN MATEO, CA  2015-02-23  2015  \n",
       "4            DATA SCIENTIST  130000.0         MCLEAN, VA  2015-03-19  2015  \n",
       "...                     ...       ...                ...         ...   ...  \n",
       "28244  SENIOR DATA ENGINEER  123000.0     SCHAUMBURG, IL  2019-07-11  2019  \n",
       "28245          DATA ANALYST   76500.0      CAMBRIDGE, MA  2019-03-10  2019  \n",
       "28246   DATA ANALYST 1 D453  105000.0  SAN FRANCISCO, CA  2019-02-28  2019  \n",
       "28247        DATA SCIENTIST  104000.0  SAN FRANCISCO, CA  2019-03-25  2019  \n",
       "28248          DATA ANALYST   77251.0  SAN FRANCISCO, CA  2019-08-29  2019  \n",
       "\n",
       "[28249 rows x 8 columns]"
      ]
     },
     "execution_count": 6,
     "metadata": {},
     "output_type": "execute_result"
    }
   ],
   "source": [
    "data_df = pd.read_csv(\"Data_Jobs.csv\")\n",
    "data_df"
   ]
  },
  {
   "cell_type": "markdown",
   "metadata": {},
   "source": [
    "## 01_Number_of_Jobs"
   ]
  },
  {
   "cell_type": "code",
   "execution_count": 7,
   "metadata": {
    "scrolled": true
   },
   "outputs": [
    {
     "data": {
      "image/png": "[encoded data removed]",
      "text/plain": [
       "<Figure size 720x432 with 1 Axes>"
      ]
     },
     "metadata": {
      "needs_background": "light"
     },
     "output_type": "display_data"
    }
   ],
   "source": [
    "ds_jobs_df = data_df\n",
    "\n",
    "fig, ax = plt.subplots(figsize=(10,6))\n",
    "ax = sns.barplot(x=ds_jobs_df['year'].value_counts().sort_index().index, \n",
    "                 y=ds_jobs_df['year'].value_counts().sort_index().values)\n",
    "ax.set_xlabel(\"Year\",fontsize=16)\n",
    "ax.set_ylabel(\"Number of H1B Data Scientist Salaries\",fontsize=16)\n",
    "plt.tight_layout()\n",
    "# plt.savefig(fname='num_jobs', dpi=150)"
   ]
  },
  {
   "cell_type": "code",
   "execution_count": 19,
   "metadata": {},
   "outputs": [
    {
     "data": {
      "text/plain": [
       "Text(0.5, 0, 'Year')"
      ]
     },
     "execution_count": 19,
     "metadata": {},
     "output_type": "execute_result"
    },
    {
     "data": {
      "image/png": "[encoded data removed]",
      "text/plain": [
       "<Figure size 720x432 with 1 Axes>"
      ]
     },
     "metadata": {
      "needs_background": "light"
     },
     "output_type": "display_data"
    }
   ],
   "source": [
    "fig, ax = plt.subplots(figsize=(10,6))\n",
    "# ax_all = sns.lineplot(x=ds_jobs_df['year'].value_counts().sort_index().index, \n",
    "#                  y=ds_jobs_df['year'].value_counts().sort_index().values,)\n",
    "ax1_ML = sns.lineplot(x=ds_jobs_df['year'][ds_jobs_df['type']=='ML'].value_counts().sort_index().index, \n",
    "                 y=ds_jobs_df['year'][ds_jobs_df['type']=='ML'].value_counts().sort_index().values,\n",
    "                     color='r')\n",
    "ax2_DS = sns.lineplot(x=ds_jobs_df['year'][ds_jobs_df['type']=='DS'].value_counts().sort_index().index, \n",
    "                 y=ds_jobs_df['year'][ds_jobs_df['type']=='DS'].value_counts().sort_index().values,\n",
    "                     color='g')\n",
    "ax3_DA = sns.lineplot(x=ds_jobs_df['year'][ds_jobs_df['type']=='DA'].value_counts().sort_index().index, \n",
    "                 y=ds_jobs_df['year'][ds_jobs_df['type']=='DA'].value_counts().sort_index().values,\n",
    "                     color='m') #purple\n",
    "ax4_DE = sns.lineplot(x=ds_jobs_df['year'][ds_jobs_df['type']=='DE'].value_counts().sort_index().index, \n",
    "                 y=ds_jobs_df['year'][ds_jobs_df['type']=='DE'].value_counts().sort_index().values,\n",
    "                     color='b')\n",
    "ax.set_xlabel(\"Year\",fontsize=16)"
   ]
  }
 ],
 "metadata": {
  "kernelspec": {
   "display_name": "h1b",
   "language": "python",
   "name": "h1b"
  },
  "language_info": {
   "codemirror_mode": {
    "name": "ipython",
    "version": 3
   },
   "file_extension": ".py",
   "mimetype": "text/x-python",
   "name": "python",
   "nbconvert_exporter": "python",
   "pygments_lexer": "ipython3",
   "version": "3.7.4"
  }
 },
 "nbformat": 4,
 "nbformat_minor": 2
}
