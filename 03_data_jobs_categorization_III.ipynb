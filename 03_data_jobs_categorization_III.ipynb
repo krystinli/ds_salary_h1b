{
 "cells": [
  {
   "cell_type": "markdown",
   "metadata": {},
   "source": [
    "With 0_data_jobs_categorization_I and 02_data_jobs_categorization_II I'm going to use the clean-up data to do some more analysis."
   ]
  },
  {
   "cell_type": "code",
   "execution_count": 1,
   "metadata": {},
   "outputs": [],
   "source": [
    "from bs4 import BeautifulSoup\n",
    "import requests\n",
    "import re\n",
    "import pandas as pd\n",
    "import pickle\n",
    "import datetime as dt\n",
    "import matplotlib\n",
    "import matplotlib.pyplot as plt\n",
    "import seaborn as sns\n",
    "import lxml"
   ]
  },
  {
   "cell_type": "markdown",
   "metadata": {},
   "source": [
    "### 00_Data_Prep\n",
    "\n",
    "web scrap the 4 types of jobs separately and put them together in the same df with type categorization separation"
   ]
  },
  {
   "cell_type": "code",
   "execution_count": 2,
   "metadata": {},
   "outputs": [],
   "source": [
    "# 1) ML\n",
    "links = [\n",
    "#     'https://h1bdata.info/index.php?em=&job=Research+Scientist&city=&year=All+Years',\n",
    "#     'https://h1bdata.info/index.php?em=&job=Research+Scientist+&city=&year=All+Years',\n",
    "    'https://h1bdata.info/index.php?em=&job=Applied+Scientist&city=&year=All+Years',\n",
    "    'https://h1bdata.info/index.php?em=&job=Applied+Scientist+&city=&year=All+Years',\n",
    "    'https://h1bdata.info/index.php?em=&job=Machine+Learning+&city=&year=All+Years',\n",
    "]\n",
    "\n",
    "jobs_list_ML = []\n",
    "for link in links:\n",
    "    page_link = link\n",
    "    page_response = requests.get(page_link, timeout=1000)\n",
    "    page_content = BeautifulSoup(page_response.content, 'lxml')\n",
    "\n",
    "    for row in page_content.find_all('tr')[1:]:\n",
    "        row_data = []\n",
    "        for i in row:\n",
    "            row_data.append(i.text)\n",
    "        jobs_list_ML.append(row_data)\n",
    "\n",
    "# Put everything into dataframes for easier processing\n",
    "ML_df = pd.DataFrame()\n",
    "ML_df['type'] = ['ML' for i in jobs_list_ML]\n",
    "ML_df['company'] = [i[0] for i in jobs_list_ML]\n",
    "ML_df['title'] = [i[1] for i in jobs_list_ML]\n",
    "ML_df['salary'] = [i[2].replace(',','') for i in jobs_list_ML]\n",
    "ML_df['salary'] = ML_df['salary'].astype(float)\n",
    "ML_df['location'] = [i[3] for i in jobs_list_ML]\n",
    "ML_df['date'] = [i[4] for i in jobs_list_ML]\n",
    "ML_df['date'] = pd.to_datetime(ML_df['date'])\n",
    "ML_df['year'] = [i.year for i in ML_df['date']]"
   ]
  },
  {
   "cell_type": "code",
   "execution_count": 3,
   "metadata": {},
   "outputs": [],
   "source": [
    "# 2) DS\n",
    "links = [\n",
    "    'https://h1bdata.info/index.php?em=&job=Data+Scientist&city=&year=All+Years',\n",
    "    'https://h1bdata.info/index.php?em=&job=Senior+Data+Scientist&city=&year=All+Years',\n",
    "    'https://h1bdata.info/index.php?em=&job=Data+Scientist+&city=&year=All+Years',\n",
    "    'https://h1bdata.info/index.php?em=&job=Data+Science+&city=&year=All+Years',\n",
    "]\n",
    "\n",
    "jobs_list_DS = []\n",
    "for link in links:\n",
    "    page_link = link\n",
    "    page_response = requests.get(page_link, timeout=1000)\n",
    "    page_content = BeautifulSoup(page_response.content, 'lxml')\n",
    "\n",
    "    for row in page_content.find_all('tr')[1:]:\n",
    "        row_data = []\n",
    "        for i in row:\n",
    "            row_data.append(i.text)\n",
    "        jobs_list_DS.append(row_data)\n",
    "\n",
    "# Put everything into dataframes for easier processing\n",
    "DS_df = pd.DataFrame()\n",
    "DS_df['type'] = ['DS' for i in jobs_list_DS]\n",
    "DS_df['company'] = [i[0] for i in jobs_list_DS]\n",
    "DS_df['title'] = [i[1] for i in jobs_list_DS]\n",
    "DS_df['salary'] = [i[2].replace(',','') for i in jobs_list_DS]\n",
    "DS_df['salary'] = DS_df['salary'].astype(float)\n",
    "DS_df['location'] = [i[3] for i in jobs_list_DS]\n",
    "DS_df['date'] = [i[4] for i in jobs_list_DS]\n",
    "DS_df['date'] = pd.to_datetime(DS_df['date'])\n",
    "DS_df['year'] = [i.year for i in DS_df['date']]"
   ]
  },
  {
   "cell_type": "code",
   "execution_count": 4,
   "metadata": {},
   "outputs": [],
   "source": [
    "# 3) DA\n",
    "links = [\n",
    "    'https://h1bdata.info/index.php?em=&job=Data+Analyst&city=&year=All+Years',\n",
    "    'https://h1bdata.info/index.php?em=&job=Data+Analyst+&city=&year=All+Years',\n",
    "    'https://h1bdata.info/index.php?em=&job=Senior+Data+Analyst&city=&year=All+Years',\n",
    "    'https://h1bdata.info/index.php?em=&job=Data+Analytics+&city=&year=All+Years',\n",
    "    'https://h1bdata.info/index.php?em=&job=Data+Analysis+&city=&year=All+Years',\n",
    "]\n",
    "\n",
    "jobs_list_DA = []\n",
    "for link in links:\n",
    "    page_link = link\n",
    "    page_response = requests.get(page_link, timeout=1000)\n",
    "    page_content = BeautifulSoup(page_response.content, 'lxml')\n",
    "\n",
    "    for row in page_content.find_all('tr')[1:]:\n",
    "        row_data = []\n",
    "        for i in row:\n",
    "            row_data.append(i.text)\n",
    "        jobs_list_DA.append(row_data)\n",
    "\n",
    "# Put everything into dataframes for easier processing\n",
    "DA_df = pd.DataFrame()\n",
    "DA_df['type'] = ['DA' for i in jobs_list_DA]\n",
    "DA_df['company'] = [i[0] for i in jobs_list_DA]\n",
    "DA_df['title'] = [i[1] for i in jobs_list_DA]\n",
    "DA_df['salary'] = [i[2].replace(',','') for i in jobs_list_DA]\n",
    "DA_df['salary'] = DA_df['salary'].astype(float)\n",
    "DA_df['location'] = [i[3] for i in jobs_list_DA]\n",
    "DA_df['date'] = [i[4] for i in jobs_list_DA]\n",
    "DA_df['date'] = pd.to_datetime(DA_df['date'])\n",
    "DA_df['year'] = [i.year for i in DA_df['date']]"
   ]
  },
  {
   "cell_type": "code",
   "execution_count": 5,
   "metadata": {},
   "outputs": [],
   "source": [
    "# 4) DE\n",
    "links = [\n",
    "    'https://h1bdata.info/index.php?em=&job=Data+Engineer&city=&year=All+Years',\n",
    "    'https://h1bdata.info/index.php?em=&job=Senior+Data+Engineer&city=&year=All+Years',\n",
    "    'https://h1bdata.info/index.php?em=&job=Data+Engineer+&city=&year=All+Years',\n",
    "    'https://h1bdata.info/index.php?em=&job=Data+Engineering+&city=&year=All+Years',\n",
    "]\n",
    "\n",
    "jobs_list_DE = []\n",
    "for link in links:\n",
    "    page_link = link\n",
    "    page_response = requests.get(page_link, timeout=1000)\n",
    "    page_content = BeautifulSoup(page_response.content, 'lxml')\n",
    "\n",
    "    for row in page_content.find_all('tr')[1:]:\n",
    "        row_data = []\n",
    "        for i in row:\n",
    "            row_data.append(i.text)\n",
    "        jobs_list_DE.append(row_data)\n",
    "\n",
    "# Put everything into dataframes for easier processing\n",
    "DE_df = pd.DataFrame()\n",
    "DE_df['type'] = ['DE' for i in jobs_list_DE]\n",
    "DE_df['company'] = [i[0] for i in jobs_list_DE]\n",
    "DE_df['title'] = [i[1] for i in jobs_list_DE]\n",
    "DE_df['salary'] = [i[2].replace(',','') for i in jobs_list_DE]\n",
    "DE_df['salary'] = DE_df['salary'].astype(float)\n",
    "DE_df['location'] = [i[3] for i in jobs_list_DE]\n",
    "DE_df['date'] = [i[4] for i in jobs_list_DE]\n",
    "DE_df['date'] = pd.to_datetime(DE_df['date'])\n",
    "DE_df['year'] = [i.year for i in DE_df['date']]"
   ]
  },
  {
   "cell_type": "code",
   "execution_count": 6,
   "metadata": {},
   "outputs": [],
   "source": [
    "# 5) RS\n",
    "links = [\n",
    "    'https://h1bdata.info/index.php?em=&job=Research+Scientist&city=&year=All+Years',\n",
    "    'https://h1bdata.info/index.php?em=&job=Research+Scientist+&city=&year=All+Years',\n",
    "]\n",
    "\n",
    "jobs_list_RS = []\n",
    "for link in links:\n",
    "    page_link = link\n",
    "    page_response = requests.get(page_link, timeout=1000)\n",
    "    page_content = BeautifulSoup(page_response.content, 'lxml')\n",
    "\n",
    "    for row in page_content.find_all('tr')[1:]:\n",
    "        row_data = []\n",
    "        for i in row:\n",
    "            row_data.append(i.text)\n",
    "        jobs_list_RS.append(row_data)\n",
    "\n",
    "# Put everything into dataframes for easier processing\n",
    "RS_df = pd.DataFrame()\n",
    "RS_df['type'] = ['ML' for i in jobs_list_RS]\n",
    "RS_df['company'] = [i[0] for i in jobs_list_RS]\n",
    "RS_df['title'] = [i[1] for i in jobs_list_RS]\n",
    "RS_df['salary'] = [i[2].replace(',','') for i in jobs_list_RS]\n",
    "RS_df['salary'] = RS_df['salary'].astype(float)\n",
    "RS_df['location'] = [i[3] for i in jobs_list_RS]\n",
    "RS_df['date'] = [i[4] for i in jobs_list_RS]\n",
    "RS_df['date'] = pd.to_datetime(RS_df['date'])\n",
    "RS_df['year'] = [i.year for i in RS_df['date']]"
   ]
  },
  {
   "cell_type": "code",
   "execution_count": 7,
   "metadata": {},
   "outputs": [],
   "source": [
    "# RS cleanup\n",
    "\n",
    "# create a set to store the list of companies \n",
    "company_set = set(i for i in DE_df.company)\n",
    "company_set.add(i for i in DA_df.company)\n",
    "company_set.add(i for i in DS_df.company)\n",
    "company_set.add(i for i in ML_df.company)\n",
    "\n",
    "company_df = pd.DataFrame(data=company_set, columns=['company'])\n",
    "\n",
    "# filter out some research scienctist title in ML_df\n",
    "RS_df = RS_df.merge(company_df, how='inner')"
   ]
  },
  {
   "cell_type": "markdown",
   "metadata": {},
   "source": [
    "### 01_Combine 4 Types\n",
    "Combine all the df for analysis"
   ]
  },
  {
   "cell_type": "code",
   "execution_count": 9,
   "metadata": {},
   "outputs": [
    {
     "data": {
      "text/plain": [
       "(28249, 7)"
      ]
     },
     "execution_count": 9,
     "metadata": {},
     "output_type": "execute_result"
    }
   ],
   "source": [
    "Data_Jobs = [ML_df,DS_df,DA_df,DE_df,RS_df]\n",
    "Data_Jobs_df = pd.concat(Data_Jobs)\n",
    "\n",
    "# Drop pre 2014 data (very few observations pre 2014)\n",
    "Data_Jobs_df.drop(Data_Jobs_df[Data_Jobs_df['year']<=2014].index, axis=0, inplace=True)\n",
    "\n",
    "# Drop salaries over $400,000\n",
    "Data_Jobs_df.drop(Data_Jobs_df[Data_Jobs_df['salary']>400000].index, axis=0, inplace=True)\n",
    "\n",
    "# Drop salaries lower than $200,000\n",
    "Data_Jobs_df.drop(Data_Jobs_df[Data_Jobs_df['salary']<20000].index, axis=0, inplace=True)\n",
    "\n",
    "# Sort by company and year\n",
    "Data_Jobs_df.sort_values(by=['year','company'], inplace=True, ascending=True)\n",
    "\n",
    "Data_Jobs_df.shape"
   ]
  },
  {
   "cell_type": "code",
   "execution_count": 15,
   "metadata": {},
   "outputs": [],
   "source": [
    "Data_Jobs_df.to_csv(\"Data_Jobs.csv\")"
   ]
  },
  {
   "cell_type": "code",
   "execution_count": 13,
   "metadata": {},
   "outputs": [
    {
     "data": {
      "text/html": [
       "<div>\n",
       "<style scoped>\n",
       "    .dataframe tbody tr th:only-of-type {\n",
       "        vertical-align: middle;\n",
       "    }\n",
       "\n",
       "    .dataframe tbody tr th {\n",
       "        vertical-align: top;\n",
       "    }\n",
       "\n",
       "    .dataframe thead th {\n",
       "        text-align: right;\n",
       "    }\n",
       "</style>\n",
       "<table border=\"1\" class=\"dataframe\">\n",
       "  <thead>\n",
       "    <tr style=\"text-align: right;\">\n",
       "      <th></th>\n",
       "      <th>counts</th>\n",
       "    </tr>\n",
       "    <tr>\n",
       "      <th>type</th>\n",
       "      <th></th>\n",
       "    </tr>\n",
       "  </thead>\n",
       "  <tbody>\n",
       "    <tr>\n",
       "      <td>DA</td>\n",
       "      <td>10387</td>\n",
       "    </tr>\n",
       "    <tr>\n",
       "      <td>DS</td>\n",
       "      <td>10296</td>\n",
       "    </tr>\n",
       "    <tr>\n",
       "      <td>DE</td>\n",
       "      <td>4865</td>\n",
       "    </tr>\n",
       "    <tr>\n",
       "      <td>ML</td>\n",
       "      <td>2701</td>\n",
       "    </tr>\n",
       "  </tbody>\n",
       "</table>\n",
       "</div>"
      ],
      "text/plain": [
       "      counts\n",
       "type        \n",
       "DA     10387\n",
       "DS     10296\n",
       "DE      4865\n",
       "ML      2701"
      ]
     },
     "execution_count": 13,
     "metadata": {},
     "output_type": "execute_result"
    }
   ],
   "source": [
    "# aggregation_stats\n",
    "Job_Counts = Data_Jobs_df[\n",
    "    [\"type\",\"title\"]\n",
    "].groupby([\"type\"]).count().sort_values(by=[\"title\"], ascending=False).rename(columns={'title':'counts'})\n",
    "\n",
    "Job_Counts"
   ]
  },
  {
   "cell_type": "markdown",
   "metadata": {},
   "source": [
    "### 02_Plotting"
   ]
  },
  {
   "cell_type": "code",
   "execution_count": 18,
   "metadata": {},
   "outputs": [
    {
     "data": {
      "image/png": "[encoded data removed]",
      "text/plain": [
       "<Figure size 1080x216 with 3 Axes>"
      ]
     },
     "metadata": {
      "needs_background": "light"
     },
     "output_type": "display_data"
    }
   ],
   "source": [
    "# Number of Jobs over the last 5 years \n",
    "names = ['# ML_Jobs','# DE_Jobs','# DS_Jobs','# DA_Jobs']\n",
    "values = [2701,4865,10296,10387]\n",
    "\n",
    "plt.figure(figsize=(15, 3))\n",
    "\n",
    "plt.subplot(131)\n",
    "plt.bar(names, values)\n",
    "plt.subplot(132)\n",
    "plt.scatter(names, values)\n",
    "plt.subplot(133)\n",
    "plt.plot(names, values)\n",
    "plt.suptitle('Number of Jobs over the last 5 years')\n",
    "plt.show()"
   ]
  }
 ],
 "metadata": {
  "kernelspec": {
   "display_name": "h1b",
   "language": "python",
   "name": "h1b"
  },
  "language_info": {
   "codemirror_mode": {
    "name": "ipython",
    "version": 3
   },
   "file_extension": ".py",
   "mimetype": "text/x-python",
   "name": "python",
   "nbconvert_exporter": "python",
   "pygments_lexer": "ipython3",
   "version": "3.7.4"
  }
 },
 "nbformat": 4,
 "nbformat_minor": 2
}
