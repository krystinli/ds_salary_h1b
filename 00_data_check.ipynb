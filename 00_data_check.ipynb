{
 "cells": [
  {
   "cell_type": "code",
   "execution_count": 1,
   "metadata": {},
   "outputs": [],
   "source": [
    "from bs4 import BeautifulSoup\n",
    "import requests\n",
    "import re\n",
    "import pandas as pd\n",
    "import pickle\n",
    "import datetime as dt\n",
    "import matplotlib\n",
    "import matplotlib.pyplot as plt\n",
    "import seaborn as sns\n",
    "import lxml"
   ]
  },
  {
   "cell_type": "markdown",
   "metadata": {},
   "source": [
    "### 00_Source: Labor Condition Application (LCA) data \n",
    "from the Department of Labor (DOL)\n",
    "\n",
    "- Original Article: https://towardsdatascience.com/how-much-do-data-scientists-make-cbd7ec2b458\n",
    "- Data source for this project: https://h1bdata.info/index.php\n",
    "- Original data source: https://www.foreignlaborcert.doleta.gov/performancedata.cfm#dis"
   ]
  },
  {
   "cell_type": "code",
   "execution_count": 9,
   "metadata": {},
   "outputs": [],
   "source": [
    "# links = ['https://h1bdata.info/index.php?em=&job=Data+Scientist&city=SAN+JOSE&year=All+Years',\n",
    "#          'https://h1bdata.info/index.php?em=&job=Data+Scientist&city=SANTA+CLARA&year=All+Years',\n",
    "#          'https://h1bdata.info/index.php?em=&job=Data+Scientist&city=SUNNYVALE&year=All+Years',\n",
    "#          'https://h1bdata.info/index.php?em=&job=Data+Scientist&city=MOUNTAIN+VIEW&year=All+Years',\n",
    "#          'https://h1bdata.info/index.php?em=&job=Data+Scientist&city=CUPERTINO&year=All+Years',\n",
    "#          'https://h1bdata.info/index.php?em=&job=Data+Scientist&city=MENLO+PARK&year=All+Years',\n",
    "#          'https://h1bdata.info/index.php?em=&job=Data+Scientist&city=PALO+ALTO&year=All+Years',\n",
    "#          'https://h1bdata.info/index.php?em=&job=Data+Scientist&city=REDWOOD+CITY&year=All+Years',\n",
    "#          'https://h1bdata.info/index.php?em=&job=Data+Scientist&city=SAN+MATEO&year=All+Years',\n",
    "#          'https://h1bdata.info/index.php?em=&job=Data+Scientist&city=SAN+FRANCISCO&year=All+Years',\n",
    "#          'https://h1bdata.info/index.php?em=&job=Data+Scientist&city=SEATTLE&year=All+Years',\n",
    "#          'https://h1bdata.info/index.php?em=&job=Data+Scientist&city=REDMOND&year=All+Years',\n",
    "#          'https://h1bdata.info/index.php?em=&job=Data+Scientist&city=SANTA+MONICA&year=All+Years',\n",
    "#          'https://h1bdata.info/index.php?em=&job=Data+Scientist&city=LOS+ANGELES&year=All+Years',\n",
    "#          'https://h1bdata.info/index.php?em=&job=Data+Scientist&city=AUSTIN&year=All+Years',\n",
    "#          'https://h1bdata.info/index.php?em=amazon&job=Data+Scientist+I&city=&year=All+Years'\n",
    "#        ]"
   ]
  },
  {
   "cell_type": "markdown",
   "metadata": {},
   "source": [
    "### 01_Links \n",
    "Extract all the data related to job `Data+Scientist` with no filter. There're a few way to cut the data at this point:\n",
    "- job=Data+Scientist\n",
    "- city=AUSTIN\n",
    "- year=2019\n",
    "\n",
    "Playing around the web page hosting this data, we can see a few titles related to `Data+Scientist` job. I'll explore the other titles in later analysis. "
   ]
  },
  {
   "cell_type": "code",
   "execution_count": 5,
   "metadata": {},
   "outputs": [],
   "source": [
    "# link to the entire db \n",
    "links = ['https://h1bdata.info/index.php?em=&job=Data+Scientist&city=&year=All+Years']"
   ]
  },
  {
   "cell_type": "code",
   "execution_count": 7,
   "metadata": {},
   "outputs": [],
   "source": [
    "# Scrape table data from each of the above links and store in a list\n",
    "\n",
    "jobs_list = []\n",
    "for link in links:\n",
    "    page_link = link\n",
    "    page_response = requests.get(page_link, timeout=1000)\n",
    "    page_content = BeautifulSoup(page_response.content, 'lxml')\n",
    "\n",
    "    for row in page_content.find_all('tr')[1:]:\n",
    "        row_data = []\n",
    "        for i in row:\n",
    "            row_data.append(i.text)\n",
    "        jobs_list.append(row_data)"
   ]
  },
  {
   "cell_type": "code",
   "execution_count": 8,
   "metadata": {},
   "outputs": [
    {
     "data": {
      "text/plain": [
       "7344"
      ]
     },
     "execution_count": 8,
     "metadata": {},
     "output_type": "execute_result"
    }
   ],
   "source": [
    "len(jobs_list)"
   ]
  },
  {
   "cell_type": "code",
   "execution_count": 11,
   "metadata": {},
   "outputs": [
    {
     "data": {
      "text/plain": [
       "[['PERCOLATA CORPORATION',\n",
       "  'DATA SCIENTIST',\n",
       "  '46,060',\n",
       "  'PALO ALTO, CA',\n",
       "  '03/18/2016',\n",
       "  '09/02/2016',\n",
       "  'CERTIFIED'],\n",
       " ['MY LIFE REGISTRY LLC',\n",
       "  'DATA SCIENTIST',\n",
       "  '47,960',\n",
       "  'FORT LEE, NJ',\n",
       "  '02/18/2015',\n",
       "  '08/20/2015',\n",
       "  'CERTIFIED'],\n",
       " ['MY LIFE REGISTRY LLC',\n",
       "  'DATA SCIENTIST',\n",
       "  '47,960',\n",
       "  'FORT LEE, NJ',\n",
       "  '02/18/2015',\n",
       "  '08/20/2015',\n",
       "  'CERTIFIED']]"
      ]
     },
     "execution_count": 11,
     "metadata": {},
     "output_type": "execute_result"
    }
   ],
   "source": [
    "jobs_list[0:3]"
   ]
  },
  {
   "cell_type": "markdown",
   "metadata": {},
   "source": [
    "### 02_ Create_Table\n",
    "\n",
    "Data downloaded from web is a list of list hosting info for all h1b applicants. From sampling above we can see:\n",
    "- i=0: company name\n",
    "- i=1: title\n",
    "- i=2: annual salary\n",
    "- i=3: location\n",
    "- i=4: applied date "
   ]
  },
  {
   "cell_type": "code",
   "execution_count": 12,
   "metadata": {},
   "outputs": [],
   "source": [
    "# Put everything into dataframes for easier processing\n",
    "\n",
    "ds_jobs_df = pd.DataFrame()\n",
    "ds_jobs_df['company'] = [i[0] for i in jobs_list]\n",
    "ds_jobs_df['title'] = [i[1] for i in jobs_list]\n",
    "\n",
    "ds_jobs_df['salary'] = [i[2].replace(',','') for i in jobs_list]\n",
    "ds_jobs_df['salary'] = ds_jobs_df['salary'].astype(float)\n",
    "\n",
    "ds_jobs_df['location'] = [i[3] for i in jobs_list]\n",
    "\n",
    "ds_jobs_df['date'] = [i[4] for i in jobs_list]\n",
    "ds_jobs_df['date'] = pd.to_datetime(ds_jobs_df['date'])\n",
    "ds_jobs_df['year'] = [i.year for i in ds_jobs_df['date']]"
   ]
  },
  {
   "cell_type": "code",
   "execution_count": 13,
   "metadata": {},
   "outputs": [
    {
     "data": {
      "text/plain": [
       "(7344, 6)"
      ]
     },
     "execution_count": 13,
     "metadata": {},
     "output_type": "execute_result"
    }
   ],
   "source": [
    "ds_jobs_df.shape"
   ]
  },
  {
   "cell_type": "code",
   "execution_count": 14,
   "metadata": {},
   "outputs": [
    {
     "data": {
      "text/html": [
       "<div>\n",
       "<style scoped>\n",
       "    .dataframe tbody tr th:only-of-type {\n",
       "        vertical-align: middle;\n",
       "    }\n",
       "\n",
       "    .dataframe tbody tr th {\n",
       "        vertical-align: top;\n",
       "    }\n",
       "\n",
       "    .dataframe thead th {\n",
       "        text-align: right;\n",
       "    }\n",
       "</style>\n",
       "<table border=\"1\" class=\"dataframe\">\n",
       "  <thead>\n",
       "    <tr style=\"text-align: right;\">\n",
       "      <th></th>\n",
       "      <th>company</th>\n",
       "      <th>title</th>\n",
       "      <th>salary</th>\n",
       "      <th>location</th>\n",
       "      <th>date</th>\n",
       "      <th>year</th>\n",
       "    </tr>\n",
       "  </thead>\n",
       "  <tbody>\n",
       "    <tr>\n",
       "      <td>0</td>\n",
       "      <td>PERCOLATA CORPORATION</td>\n",
       "      <td>DATA SCIENTIST</td>\n",
       "      <td>46060.0</td>\n",
       "      <td>PALO ALTO, CA</td>\n",
       "      <td>2016-03-18</td>\n",
       "      <td>2016</td>\n",
       "    </tr>\n",
       "    <tr>\n",
       "      <td>1</td>\n",
       "      <td>MY LIFE REGISTRY LLC</td>\n",
       "      <td>DATA SCIENTIST</td>\n",
       "      <td>47960.0</td>\n",
       "      <td>FORT LEE, NJ</td>\n",
       "      <td>2015-02-18</td>\n",
       "      <td>2015</td>\n",
       "    </tr>\n",
       "    <tr>\n",
       "      <td>2</td>\n",
       "      <td>MY LIFE REGISTRY LLC</td>\n",
       "      <td>DATA SCIENTIST</td>\n",
       "      <td>47960.0</td>\n",
       "      <td>FORT LEE, NJ</td>\n",
       "      <td>2015-02-18</td>\n",
       "      <td>2015</td>\n",
       "    </tr>\n",
       "    <tr>\n",
       "      <td>3</td>\n",
       "      <td>BIG DATA ANALYTICS TRADING INC</td>\n",
       "      <td>DATA SCIENTIST</td>\n",
       "      <td>50000.0</td>\n",
       "      <td>JOHNS CREEK, GA</td>\n",
       "      <td>2017-03-16</td>\n",
       "      <td>2017</td>\n",
       "    </tr>\n",
       "    <tr>\n",
       "      <td>4</td>\n",
       "      <td>YONO HEALTH INC</td>\n",
       "      <td>DATA SCIENTIST</td>\n",
       "      <td>50220.0</td>\n",
       "      <td>SUNNYVALE, CA</td>\n",
       "      <td>2017-02-28</td>\n",
       "      <td>2017</td>\n",
       "    </tr>\n",
       "  </tbody>\n",
       "</table>\n",
       "</div>"
      ],
      "text/plain": [
       "                          company           title   salary         location  \\\n",
       "0           PERCOLATA CORPORATION  DATA SCIENTIST  46060.0    PALO ALTO, CA   \n",
       "1            MY LIFE REGISTRY LLC  DATA SCIENTIST  47960.0     FORT LEE, NJ   \n",
       "2            MY LIFE REGISTRY LLC  DATA SCIENTIST  47960.0     FORT LEE, NJ   \n",
       "3  BIG DATA ANALYTICS TRADING INC  DATA SCIENTIST  50000.0  JOHNS CREEK, GA   \n",
       "4                 YONO HEALTH INC  DATA SCIENTIST  50220.0    SUNNYVALE, CA   \n",
       "\n",
       "        date  year  \n",
       "0 2016-03-18  2016  \n",
       "1 2015-02-18  2015  \n",
       "2 2015-02-18  2015  \n",
       "3 2017-03-16  2017  \n",
       "4 2017-02-28  2017  "
      ]
     },
     "execution_count": 14,
     "metadata": {},
     "output_type": "execute_result"
    }
   ],
   "source": [
    "ds_jobs_df.head()"
   ]
  },
  {
   "cell_type": "markdown",
   "metadata": {},
   "source": [
    "### 03_Outliners\n",
    "\n",
    "Filter out incomplete data by year and detect other gaps."
   ]
  },
  {
   "cell_type": "code",
   "execution_count": 18,
   "metadata": {},
   "outputs": [
    {
     "data": {
      "text/html": [
       "<div>\n",
       "<style scoped>\n",
       "    .dataframe tbody tr th:only-of-type {\n",
       "        vertical-align: middle;\n",
       "    }\n",
       "\n",
       "    .dataframe tbody tr th {\n",
       "        vertical-align: top;\n",
       "    }\n",
       "\n",
       "    .dataframe thead th {\n",
       "        text-align: right;\n",
       "    }\n",
       "</style>\n",
       "<table border=\"1\" class=\"dataframe\">\n",
       "  <thead>\n",
       "    <tr style=\"text-align: right;\">\n",
       "      <th></th>\n",
       "      <th>title</th>\n",
       "    </tr>\n",
       "    <tr>\n",
       "      <th>year</th>\n",
       "      <th></th>\n",
       "    </tr>\n",
       "  </thead>\n",
       "  <tbody>\n",
       "    <tr>\n",
       "      <td>2013</td>\n",
       "      <td>2</td>\n",
       "    </tr>\n",
       "    <tr>\n",
       "      <td>2014</td>\n",
       "      <td>74</td>\n",
       "    </tr>\n",
       "    <tr>\n",
       "      <td>2015</td>\n",
       "      <td>562</td>\n",
       "    </tr>\n",
       "    <tr>\n",
       "      <td>2016</td>\n",
       "      <td>909</td>\n",
       "    </tr>\n",
       "    <tr>\n",
       "      <td>2017</td>\n",
       "      <td>1286</td>\n",
       "    </tr>\n",
       "    <tr>\n",
       "      <td>2018</td>\n",
       "      <td>2179</td>\n",
       "    </tr>\n",
       "    <tr>\n",
       "      <td>2019</td>\n",
       "      <td>2332</td>\n",
       "    </tr>\n",
       "  </tbody>\n",
       "</table>\n",
       "</div>"
      ],
      "text/plain": [
       "      title\n",
       "year       \n",
       "2013      2\n",
       "2014     74\n",
       "2015    562\n",
       "2016    909\n",
       "2017   1286\n",
       "2018   2179\n",
       "2019   2332"
      ]
     },
     "execution_count": 18,
     "metadata": {},
     "output_type": "execute_result"
    }
   ],
   "source": [
    "# data_by_year\n",
    "ds_jobs_df[[\"year\",\"title\"]].groupby([\"year\"]).count()"
   ]
  },
  {
   "cell_type": "code",
   "execution_count": 19,
   "metadata": {},
   "outputs": [
    {
     "data": {
      "image/png": "[encoded data removed]",
      "text/plain": [
       "<Figure size 720x432 with 1 Axes>"
      ]
     },
     "metadata": {
      "needs_background": "light"
     },
     "output_type": "display_data"
    }
   ],
   "source": [
    "fig, ax = plt.subplots(figsize=(10,6))\n",
    "ax = sns.barplot(x=ds_jobs_df['year'].value_counts().sort_index().index, \n",
    "                 y=ds_jobs_df['year'].value_counts().sort_index().values)\n",
    "ax.set_xlabel(\"Year\",fontsize=16)\n",
    "ax.set_ylabel(\"Number of H1B Data Scientist Salaries\",fontsize=16)\n",
    "plt.tight_layout()\n",
    "plt.savefig(fname='num_jobs', dpi=150)"
   ]
  },
  {
   "cell_type": "code",
   "execution_count": 23,
   "metadata": {},
   "outputs": [
    {
     "data": {
      "text/plain": [
       "<matplotlib.axes._subplots.AxesSubplot at 0x133944410>"
      ]
     },
     "execution_count": 23,
     "metadata": {},
     "output_type": "execute_result"
    },
    {
     "data": {
      "image/png": "[encoded data removed]",
      "text/plain": [
       "<Figure size 432x288 with 1 Axes>"
      ]
     },
     "metadata": {
      "needs_background": "light"
     },
     "output_type": "display_data"
    }
   ],
   "source": [
    "# distribution of salary\n",
    "\n",
    "sns.distplot(ds_jobs_df['salary'])\n",
    "# sns.distplot(ds_jobs_df['salary'], hist=False, rug=True);"
   ]
  },
  {
   "cell_type": "code",
   "execution_count": 24,
   "metadata": {},
   "outputs": [
    {
     "data": {
      "text/plain": [
       "<matplotlib.axes._subplots.AxesSubplot at 0x12c513f50>"
      ]
     },
     "execution_count": 24,
     "metadata": {},
     "output_type": "execute_result"
    },
    {
     "data": {
      "image/png": "[encoded data removed]",
      "text/plain": [
       "<Figure size 432x288 with 1 Axes>"
      ]
     },
     "metadata": {
      "needs_background": "light"
     },
     "output_type": "display_data"
    }
   ],
   "source": [
    "# if setting uppper bound at 400K\n",
    "sns.distplot(ds_jobs_df[ds_jobs_df['salary']<400000]['salary'])"
   ]
  },
  {
   "cell_type": "code",
   "execution_count": 26,
   "metadata": {},
   "outputs": [
    {
     "data": {
      "text/html": [
       "<div>\n",
       "<style scoped>\n",
       "    .dataframe tbody tr th:only-of-type {\n",
       "        vertical-align: middle;\n",
       "    }\n",
       "\n",
       "    .dataframe tbody tr th {\n",
       "        vertical-align: top;\n",
       "    }\n",
       "\n",
       "    .dataframe thead th {\n",
       "        text-align: right;\n",
       "    }\n",
       "</style>\n",
       "<table border=\"1\" class=\"dataframe\">\n",
       "  <thead>\n",
       "    <tr style=\"text-align: right;\">\n",
       "      <th></th>\n",
       "      <th>company</th>\n",
       "      <th>title</th>\n",
       "      <th>salary</th>\n",
       "      <th>location</th>\n",
       "      <th>date</th>\n",
       "      <th>year</th>\n",
       "    </tr>\n",
       "  </thead>\n",
       "  <tbody>\n",
       "    <tr>\n",
       "      <td>7343</td>\n",
       "      <td>AIRBNB INC</td>\n",
       "      <td>DATA SCIENTIST</td>\n",
       "      <td>1350001.0</td>\n",
       "      <td>SAN FRANCISCO, CA</td>\n",
       "      <td>2015-02-12</td>\n",
       "      <td>2015</td>\n",
       "    </tr>\n",
       "    <tr>\n",
       "      <td>170</td>\n",
       "      <td>LARSON LIVING LABS LLC</td>\n",
       "      <td>DATA SCIENTIST</td>\n",
       "      <td>312000.0</td>\n",
       "      <td>CAMBRIDGE, MA</td>\n",
       "      <td>2018-03-21</td>\n",
       "      <td>2018</td>\n",
       "    </tr>\n",
       "    <tr>\n",
       "      <td>171</td>\n",
       "      <td>LARSON LIVING LABS LLC</td>\n",
       "      <td>DATA SCIENTIST</td>\n",
       "      <td>312000.0</td>\n",
       "      <td>CAMBRIDGE, MA</td>\n",
       "      <td>2018-05-14</td>\n",
       "      <td>2018</td>\n",
       "    </tr>\n",
       "    <tr>\n",
       "      <td>7341</td>\n",
       "      <td>STITCH FIX INC</td>\n",
       "      <td>DATA SCIENTIST</td>\n",
       "      <td>260000.0</td>\n",
       "      <td>SAN FRANCISCO, CA</td>\n",
       "      <td>2019-04-09</td>\n",
       "      <td>2019</td>\n",
       "    </tr>\n",
       "    <tr>\n",
       "      <td>7340</td>\n",
       "      <td>STITCH FIX INC</td>\n",
       "      <td>DATA SCIENTIST</td>\n",
       "      <td>260000.0</td>\n",
       "      <td>SAN FRANCISCO, CA</td>\n",
       "      <td>2018-12-10</td>\n",
       "      <td>2018</td>\n",
       "    </tr>\n",
       "    <tr>\n",
       "      <td>7342</td>\n",
       "      <td>STITCH FIX INC</td>\n",
       "      <td>DATA SCIENTIST</td>\n",
       "      <td>260000.0</td>\n",
       "      <td>SAN FRANCISCO, CA</td>\n",
       "      <td>2019-05-24</td>\n",
       "      <td>2019</td>\n",
       "    </tr>\n",
       "    <tr>\n",
       "      <td>7339</td>\n",
       "      <td>AIRBNB INC</td>\n",
       "      <td>DATA SCIENTIST</td>\n",
       "      <td>253630.0</td>\n",
       "      <td>SAN FRANCISCO, CA</td>\n",
       "      <td>2017-04-14</td>\n",
       "      <td>2017</td>\n",
       "    </tr>\n",
       "    <tr>\n",
       "      <td>7338</td>\n",
       "      <td>JDCOM AMERICAN TECHNOLOGIES CORPORATION</td>\n",
       "      <td>DATA SCIENTIST</td>\n",
       "      <td>250000.0</td>\n",
       "      <td>SANTA CLARA, CA</td>\n",
       "      <td>2016-10-07</td>\n",
       "      <td>2016</td>\n",
       "    </tr>\n",
       "    <tr>\n",
       "      <td>7337</td>\n",
       "      <td>NEUBERGER BERMAN GROUP LLC</td>\n",
       "      <td>DATA SCIENTIST</td>\n",
       "      <td>250000.0</td>\n",
       "      <td>NEW YORK, NY</td>\n",
       "      <td>2017-11-08</td>\n",
       "      <td>2017</td>\n",
       "    </tr>\n",
       "    <tr>\n",
       "      <td>7336</td>\n",
       "      <td>JDCOM AMERICAN TECHNOLOGIES CORPORATION</td>\n",
       "      <td>DATA SCIENTIST</td>\n",
       "      <td>248400.0</td>\n",
       "      <td>MOUNTAIN VIEW, CA</td>\n",
       "      <td>2019-04-23</td>\n",
       "      <td>2019</td>\n",
       "    </tr>\n",
       "  </tbody>\n",
       "</table>\n",
       "</div>"
      ],
      "text/plain": [
       "                                      company           title     salary  \\\n",
       "7343                               AIRBNB INC  DATA SCIENTIST  1350001.0   \n",
       "170                    LARSON LIVING LABS LLC  DATA SCIENTIST   312000.0   \n",
       "171                    LARSON LIVING LABS LLC  DATA SCIENTIST   312000.0   \n",
       "7341                           STITCH FIX INC  DATA SCIENTIST   260000.0   \n",
       "7340                           STITCH FIX INC  DATA SCIENTIST   260000.0   \n",
       "7342                           STITCH FIX INC  DATA SCIENTIST   260000.0   \n",
       "7339                               AIRBNB INC  DATA SCIENTIST   253630.0   \n",
       "7338  JDCOM AMERICAN TECHNOLOGIES CORPORATION  DATA SCIENTIST   250000.0   \n",
       "7337               NEUBERGER BERMAN GROUP LLC  DATA SCIENTIST   250000.0   \n",
       "7336  JDCOM AMERICAN TECHNOLOGIES CORPORATION  DATA SCIENTIST   248400.0   \n",
       "\n",
       "               location       date  year  \n",
       "7343  SAN FRANCISCO, CA 2015-02-12  2015  \n",
       "170       CAMBRIDGE, MA 2018-03-21  2018  \n",
       "171       CAMBRIDGE, MA 2018-05-14  2018  \n",
       "7341  SAN FRANCISCO, CA 2019-04-09  2019  \n",
       "7340  SAN FRANCISCO, CA 2018-12-10  2018  \n",
       "7342  SAN FRANCISCO, CA 2019-05-24  2019  \n",
       "7339  SAN FRANCISCO, CA 2017-04-14  2017  \n",
       "7338    SANTA CLARA, CA 2016-10-07  2016  \n",
       "7337       NEW YORK, NY 2017-11-08  2017  \n",
       "7336  MOUNTAIN VIEW, CA 2019-04-23  2019  "
      ]
     },
     "execution_count": 26,
     "metadata": {},
     "output_type": "execute_result"
    }
   ],
   "source": [
    "ds_jobs_df.sort_values(by=[\"salary\"], ascending=False).head(10)"
   ]
  },
  {
   "cell_type": "markdown",
   "metadata": {},
   "source": [
    "From the above chart it's obvious filtering out 400K above is safe. "
   ]
  },
  {
   "cell_type": "code",
   "execution_count": 19,
   "metadata": {},
   "outputs": [],
   "source": [
    "# outliners\n",
    "\n",
    "# Drop pre 2014 data (very few observations pre 2014)\n",
    "ds_jobs_df.drop(ds_jobs_df[ds_jobs_df['year']<2014].index, axis=0, inplace=True)\n",
    "\n",
    "# Drop salaries over $1,000,000\n",
    "ds_jobs_df.drop(ds_jobs_df[ds_jobs_df['salary']>1000000].index, axis=0, inplace=True)\n",
    "\n",
    "# Sort by company and year\n",
    "ds_jobs_df.sort_values(by=['year','company'], inplace=True, ascending=True)"
   ]
  },
  {
   "cell_type": "code",
   "execution_count": 20,
   "metadata": {},
   "outputs": [
    {
     "data": {
      "text/plain": [
       "(332, 6)"
      ]
     },
     "execution_count": 20,
     "metadata": {},
     "output_type": "execute_result"
    }
   ],
   "source": [
    "ds_jobs_df.shape"
   ]
  },
  {
   "cell_type": "code",
   "execution_count": 22,
   "metadata": {},
   "outputs": [
    {
     "data": {
      "text/plain": [
       "120000.0"
      ]
     },
     "execution_count": 22,
     "metadata": {},
     "output_type": "execute_result"
    }
   ],
   "source": [
    "ds_jobs_df['salary'].median()"
   ]
  },
  {
   "cell_type": "code",
   "execution_count": 26,
   "metadata": {},
   "outputs": [
    {
     "data": {
      "text/html": [
       "<div>\n",
       "<style scoped>\n",
       "    .dataframe tbody tr th:only-of-type {\n",
       "        vertical-align: middle;\n",
       "    }\n",
       "\n",
       "    .dataframe tbody tr th {\n",
       "        vertical-align: top;\n",
       "    }\n",
       "\n",
       "    .dataframe thead th {\n",
       "        text-align: right;\n",
       "    }\n",
       "</style>\n",
       "<table border=\"1\" class=\"dataframe\">\n",
       "  <thead>\n",
       "    <tr style=\"text-align: right;\">\n",
       "      <th></th>\n",
       "      <th>year</th>\n",
       "      <th>salary</th>\n",
       "    </tr>\n",
       "  </thead>\n",
       "  <tbody>\n",
       "    <tr>\n",
       "      <td>0</td>\n",
       "      <td>2014</td>\n",
       "      <td>120000.0</td>\n",
       "    </tr>\n",
       "    <tr>\n",
       "      <td>1</td>\n",
       "      <td>2015</td>\n",
       "      <td>117846.5</td>\n",
       "    </tr>\n",
       "    <tr>\n",
       "      <td>2</td>\n",
       "      <td>2016</td>\n",
       "      <td>120000.0</td>\n",
       "    </tr>\n",
       "    <tr>\n",
       "      <td>3</td>\n",
       "      <td>2017</td>\n",
       "      <td>120000.0</td>\n",
       "    </tr>\n",
       "    <tr>\n",
       "      <td>4</td>\n",
       "      <td>2018</td>\n",
       "      <td>120000.0</td>\n",
       "    </tr>\n",
       "    <tr>\n",
       "      <td>5</td>\n",
       "      <td>2019</td>\n",
       "      <td>110004.0</td>\n",
       "    </tr>\n",
       "  </tbody>\n",
       "</table>\n",
       "</div>"
      ],
      "text/plain": [
       "   year    salary\n",
       "0  2014  120000.0\n",
       "1  2015  117846.5\n",
       "2  2016  120000.0\n",
       "3  2017  120000.0\n",
       "4  2018  120000.0\n",
       "5  2019  110004.0"
      ]
     },
     "execution_count": 26,
     "metadata": {},
     "output_type": "execute_result"
    }
   ],
   "source": [
    "median_salary = ds_jobs_df.groupby(by=['year']).median().reset_index()\n",
    "median_salary"
   ]
  },
  {
   "cell_type": "code",
   "execution_count": 25,
   "metadata": {},
   "outputs": [
    {
     "data": {
      "image/png": "[encoded data removed]",
      "text/plain": [
       "<Figure size 720x432 with 1 Axes>"
      ]
     },
     "metadata": {
      "needs_background": "light"
     },
     "output_type": "display_data"
    }
   ],
   "source": [
    "fig, ax = plt.subplots(figsize=(10,6))\n",
    "ax = sns.barplot(x=median_salary['year'], \n",
    "                 y=median_salary['salary'])\n",
    "ax.set_xlabel(\"Year\",fontsize=16)\n",
    "ax.set_ylabel(\"Median Data Scientist Salary\",fontsize=16)\n",
    "ax.get_yaxis().set_major_formatter(matplotlib.ticker.FuncFormatter(lambda x, p: format(int(x), ',')))\n",
    "plt.tight_layout()\n",
    "plt.savefig(fname='median_salary', dpi=150)"
   ]
  }
 ],
 "metadata": {
  "kernelspec": {
   "display_name": "h1b",
   "language": "python",
   "name": "h1b"
  },
  "language_info": {
   "codemirror_mode": {
    "name": "ipython",
    "version": 3
   },
   "file_extension": ".py",
   "mimetype": "text/x-python",
   "name": "python",
   "nbconvert_exporter": "python",
   "pygments_lexer": "ipython3",
   "version": "3.7.4"
  }
 },
 "nbformat": 4,
 "nbformat_minor": 2
}
